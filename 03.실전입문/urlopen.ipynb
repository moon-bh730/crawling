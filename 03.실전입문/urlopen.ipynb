{
 "cells": [
  {
   "cell_type": "code",
   "execution_count": 1,
   "source": [
    "from bs4 import BeautifulSoup\r\n",
    "import urllib.request as req"
   ],
   "outputs": [],
   "metadata": {}
  },
  {
   "cell_type": "code",
   "execution_count": 2,
   "source": [
    "url = \"http://www.kma.go.kr/weather/forecast/mid-term-rss3.jsp\""
   ],
   "outputs": [],
   "metadata": {}
  },
  {
   "cell_type": "code",
   "execution_count": 3,
   "source": [
    "#urlopen()으로 데이터 가져오기\r\n",
    "res = req.urlopen(url)"
   ],
   "outputs": [],
   "metadata": {}
  },
  {
   "cell_type": "code",
   "execution_count": 4,
   "source": [
    "# beautifulsoup로 분석\r\n",
    "soup = BeautifulSoup(res, \"html.parser\")"
   ],
   "outputs": [],
   "metadata": {}
  },
  {
   "cell_type": "code",
   "execution_count": 6,
   "source": [
    "# 원하는 데이터 추출하기\r\n",
    "title = soup.find(\"title\").string\r\n",
    "wf = soup.find(\"wf\").string\r\n",
    "print(title)\r\n",
    "print(\"-------------\")\r\n",
    "print(wf)"
   ],
   "outputs": [
    {
     "output_type": "stream",
     "name": "stdout",
     "text": [
      "기상청 육상 중기예보\n",
      "-------------\n",
      "○ (강수) 5일(일)~6일(월)은 강원영동과 제주도에 비가 오겠고, 7일(화)은 전국에, 8일(수)은 남부지방과 제주도에 비가 오겠습니다.<br />○ (기온) 이번 예보기간 아침 기온은 16~23도, 낮 기온은 24~29도로 어제(1일, 아침최저기온 18~24도, 낮최고기온 21~29도)와 비슷하거나 조금 낮겠습니다.<br />○ (주말전망) 4일(토)은 대체로 맑겠으나, 동해안과 제주도는 대체로 흐리겠고, 강원영동은 밤부터 비가 오겠습니다. <br />              5일(일)은 구름많겠고, 강원영동과 제주도는 비가 오겠습니다. 아침최저기온은 14~22도, 낮최고기온은 24~30도가 되겠습니다.\n"
     ]
    }
   ],
   "metadata": {}
  },
  {
   "cell_type": "code",
   "execution_count": null,
   "source": [],
   "outputs": [],
   "metadata": {}
  }
 ],
 "metadata": {
  "orig_nbformat": 4,
  "language_info": {
   "name": "python",
   "version": "3.8.10",
   "mimetype": "text/x-python",
   "codemirror_mode": {
    "name": "ipython",
    "version": 3
   },
   "pygments_lexer": "ipython3",
   "nbconvert_exporter": "python",
   "file_extension": ".py"
  },
  "kernelspec": {
   "name": "python3",
   "display_name": "Python 3.8.10 64-bit ('btfsop': conda)"
  },
  "interpreter": {
   "hash": "795bef2181d8c1d673d637ebabbfa46c3363c718d3652ae25a9a4fec543c87a1"
  }
 },
 "nbformat": 4,
 "nbformat_minor": 2
}