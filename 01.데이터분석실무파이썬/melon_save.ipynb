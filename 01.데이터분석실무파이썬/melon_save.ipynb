{
 "cells": [
  {
   "cell_type": "code",
   "execution_count": 6,
   "source": [
    "from selenium import webdriver\r\n",
    "from bs4 import BeautifulSoup\r\n",
    "import pandas as pd"
   ],
   "outputs": [],
   "metadata": {}
  },
  {
   "cell_type": "code",
   "execution_count": 7,
   "source": [
    "\r\n",
    "driver = webdriver.Chrome(\"data/chromedriver.exe\")\r\n",
    "url = \"https://www.melon.com/chart/index.htm\"\r\n",
    "driver.get(url)\r\n",
    "\r\n",
    "html = driver.page_source\r\n",
    "soup = BeautifulSoup(html, \"html.parser\")\r\n",
    "\r\n",
    "song_data = []\r\n",
    "rank = 1\r\n",
    "songs = soup.select(\"table > tbody > tr\")\r\n",
    "for song in songs:\r\n",
    "    title = song.select(\"div.rank01 > span > a\")[0].text\r\n",
    "    singer = song.select(\"div.rank02 > a\")[0].text\r\n",
    "    song_data.append([\"melon\", rank, title, singer])\r\n",
    "    rank += 1\r\n",
    "\r\n",
    "colunms = [\"서비스\", \"순위\", \"타이틀\", \"가수\"]\r\n",
    "pd_data = pd.DataFrame(song_data, columns= colunms)\r\n",
    "pd_data.to_csv(\"data/melon.csv\", index=False, encoding=\"utf-8-sig\")"
   ],
   "outputs": [],
   "metadata": {}
  },
  {
   "cell_type": "code",
   "execution_count": 8,
   "source": [
    "driver.close()"
   ],
   "outputs": [],
   "metadata": {}
  }
 ],
 "metadata": {
  "orig_nbformat": 4,
  "language_info": {
   "name": "python",
   "version": "3.8.10",
   "mimetype": "text/x-python",
   "codemirror_mode": {
    "name": "ipython",
    "version": 3
   },
   "pygments_lexer": "ipython3",
   "nbconvert_exporter": "python",
   "file_extension": ".py"
  },
  "kernelspec": {
   "name": "python3",
   "display_name": "Python 3.8.10 64-bit ('btfsop': conda)"
  },
  "interpreter": {
   "hash": "795bef2181d8c1d673d637ebabbfa46c3363c718d3652ae25a9a4fec543c87a1"
  }
 },
 "nbformat": 4,
 "nbformat_minor": 2
}