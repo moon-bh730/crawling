{
 "cells": [
  {
   "cell_type": "code",
   "execution_count": 4,
   "source": [
    "from selenium import webdriver\r\n",
    "from bs4 import BeautifulSoup\r\n",
    "import pandas as pd"
   ],
   "outputs": [],
   "metadata": {}
  },
  {
   "cell_type": "code",
   "execution_count": 17,
   "source": [
    "\r\n",
    "driver = webdriver.Chrome(\"data/chromedriver.exe\")\r\n",
    "url = \"https://www.genie.co.kr/chart/top200\"\r\n",
    "driver.get(url)\r\n",
    "\r\n",
    "html = driver.page_source\r\n",
    "soup = BeautifulSoup(html, \"html.parser\")"
   ],
   "outputs": [],
   "metadata": {}
  },
  {
   "cell_type": "code",
   "execution_count": 18,
   "source": [
    "song_data = []\r\n",
    "rank = 1\r\n",
    "songs = soup.select(\"tbody > tr\")\r\n",
    "for song in songs:\r\n",
    "    title = song.select(\"a.title\")[0].text.strip()\r\n",
    "    singer = song.select(\"a.artist\")[0].text\r\n",
    "    song_data.append([\"Genie\", rank, title, singer])\r\n",
    "    rank += 1\r\n",
    "\r\n",
    "colunms = [\"서비스\", \"순위\", \"타이틀\", \"가수\"]\r\n",
    "pd_data = pd.DataFrame(song_data, columns= colunms)\r\n",
    "pd_data.to_csv(\"data/genie.csv\", index=False, encoding=\"utf-8-sig\")"
   ],
   "outputs": [],
   "metadata": {}
  },
  {
   "cell_type": "code",
   "execution_count": 16,
   "source": [
    "driver.close()"
   ],
   "outputs": [],
   "metadata": {}
  }
 ],
 "metadata": {
  "orig_nbformat": 4,
  "language_info": {
   "name": "python",
   "version": "3.8.10",
   "mimetype": "text/x-python",
   "codemirror_mode": {
    "name": "ipython",
    "version": 3
   },
   "pygments_lexer": "ipython3",
   "nbconvert_exporter": "python",
   "file_extension": ".py"
  },
  "kernelspec": {
   "name": "python3",
   "display_name": "Python 3.8.10 64-bit ('btfsop': conda)"
  },
  "interpreter": {
   "hash": "795bef2181d8c1d673d637ebabbfa46c3363c718d3652ae25a9a4fec543c87a1"
  }
 },
 "nbformat": 4,
 "nbformat_minor": 2
}