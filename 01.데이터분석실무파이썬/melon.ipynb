{
 "cells": [
  {
   "cell_type": "code",
   "execution_count": 40,
   "source": [
    "from selenium import webdriver\r\n",
    "driver = webdriver.Chrome(\"data/chromedriver.exe\")"
   ],
   "outputs": [],
   "metadata": {}
  },
  {
   "cell_type": "code",
   "execution_count": 41,
   "source": [
    "url = \"https://www.melon.com/chart/index.htm\"\r\n",
    "driver.get(url)"
   ],
   "outputs": [],
   "metadata": {}
  },
  {
   "cell_type": "code",
   "execution_count": 42,
   "source": [
    "from bs4 import BeautifulSoup\r\n",
    "html = driver.page_source\r\n",
    "soup = BeautifulSoup(html,\"html.parser\")"
   ],
   "outputs": [],
   "metadata": {}
  },
  {
   "cell_type": "code",
   "execution_count": 43,
   "source": [
    "songs = soup.select(\"table > tbody > tr\")\r\n",
    "songs = songs[0]\r\n",
    "title = songs.select(\"a\")\r\n",
    "title = songs.select(\"span > a\")\r\n",
    "title = songs.select(\"div.ellipsis.rank01 > span > a\")\r\n",
    "print(songs.select(\"div.ellipsis.rank01 > span > a\")[0].text)\r\n"
   ],
   "outputs": [
    {
     "output_type": "stream",
     "name": "stdout",
     "text": [
      "신호등\n"
     ]
    }
   ],
   "metadata": {}
  },
  {
   "cell_type": "code",
   "execution_count": 44,
   "source": [
    "singer = songs.select(\"div.ellipsis.rank02 > a\")\r\n",
    "print(songs.select(\"div.ellipsis.rank02 > a\")[0].text)"
   ],
   "outputs": [
    {
     "output_type": "stream",
     "name": "stdout",
     "text": [
      "이무진\n"
     ]
    }
   ],
   "metadata": {}
  },
  {
   "cell_type": "code",
   "execution_count": 46,
   "source": [
    "songs = soup.select(\"tbody > tr\")\r\n",
    "for song in songs:\r\n",
    "    title = song.select(\"div.ellipsis.rank01 > span > a\")[0].text\r\n",
    "    singer = song.select(\"div.ellipsis.rank02 > a\")[0].text\r\n",
    "    print(title, singer, sep = \"|\")"
   ],
   "outputs": [
    {
     "output_type": "stream",
     "name": "stdout",
     "text": [
      "신호등|이무진\n",
      "바라만 본다|MSG워너비(M.O.M)\n",
      "Next Level|aespa\n",
      "낙하 (with 아이유)|AKMU (악뮤)\n",
      "Permission to Dance|방탄소년단\n",
      "Queendom|Red Velvet (레드벨벳)\n",
      "Weekend|태연 (TAEYEON)\n",
      "STAY|The Kid LAROI\n",
      "Butter|방탄소년단\n",
      "OHAYO MY NIGHT|디핵 (D-Hack)\n",
      "DUMB DUMB|전소미\n",
      "좋아좋아|조정석\n",
      "헤픈 우연|헤이즈 (Heize)\n",
      "Peaches (Feat. Daniel Caesar & Giveon)|Justin Bieber\n",
      "비와 당신|이무진\n",
      "Dynamite|방탄소년단\n",
      "Bad Habits|Ed Sheeran\n",
      "Dun Dun Dance|오마이걸 (OH MY GIRL)\n",
      "롤린 (Rollin')|브레이브걸스\n",
      "비가 오는 날엔 (2021)|헤이즈 (Heize)\n",
      "라일락|아이유\n",
      "이제 나만 믿어요|임영웅\n",
      "치맛바람 (Chi Mat Ba Ram)|브레이브걸스\n",
      "Celebrity|아이유\n",
      "Alcohol-Free|TWICE (트와이스)\n",
      "안녕 (Hello)|조이 (JOY)\n",
      "다정히 내 이름을 부르면|경서예지\n",
      "하루만 더|빅마마\n",
      "ASAP|STAYC(스테이씨)\n",
      "사이렌 Remix (Feat. UNEDUCATED KID, Paul Blanco)|호미들\n",
      "여전히 아름다운지|세븐틴\n",
      "Savage Love (Laxed - Siren Beat) (BTS Remix)|Jawsh 685\n",
      "운전만해 (We Ride)|브레이브걸스\n",
      "나를 아는 사람|MSG워너비(정상동기)\n",
      "작은 것들을 위한 시 (Boy With Luv) (Feat. Halsey)|방탄소년단\n",
      "밝게 빛나는 별이 되어 비춰줄게|송이한\n",
      "내 손을 잡아|아이유\n",
      "가을 우체국 앞에서|김대명\n",
      "멜로디|ASH ISLAND\n",
      "상상더하기|라붐 (LABOUM)\n",
      "Timeless|SG 워너비\n",
      "비 오는 날 듣기 좋은 노래 (Feat. Colde)|에픽하이 (EPIK HIGH)\n",
      "봄날|방탄소년단\n",
      "별빛 같은 나의 사랑아|임영웅\n",
      "밤하늘의 별을(2020)|경서\n",
      "Lovesick Girls|BLACKPINK\n",
      "Life Goes On|방탄소년단\n",
      "어떻게 이별까지 사랑하겠어, 널 사랑하는 거지|AKMU (악뮤)\n",
      "Off My Face|Justin Bieber\n",
      "추억은 만남보다 이별에 남아|정동하\n",
      "HERO|임영웅\n",
      "사진을 보다가|다비치\n",
      "아로하|조정석\n",
      "상상더하기|MSG워너비 TOP 8 (별루지, 김정수, 강창모, 정기석, 이동휘, 이상이, 박재정, 원슈타인)\n",
      "그대라는 사치|임영웅\n",
      "어푸 (Ah puh)|아이유\n",
      "다시 사랑한다면 (김필 Ver.)|임영웅\n",
      "잠이 오질 않네요|장범준\n",
      "Blueming|아이유\n",
      "Dolphin|오마이걸 (OH MY GIRL)\n",
      "에잇(Prod.&Feat. SUGA of BTS)|아이유\n",
      "끝사랑|임영웅\n",
      "그날에 나는 맘이 편했을까|이예준\n",
      "Bk Love|임영웅\n",
      "취기를 빌려 (취향저격 그녀 X 산들)|산들\n",
      "슈퍼스타|미도와 파라솔\n",
      "고백|10CM\n",
      "LOVE DAY (2021) (바른연애 길잡이 X 양요섭, 정은지)|양요섭\n",
      "2002|Anne-Marie\n",
      "라라라|SG 워너비\n",
      "잊었니|임영웅\n",
      "이젠 잊기로 해요 (Drama Ver.)|미도와 파라솔\n",
      "METEOR|창모 (CHANGMO)\n",
      "모든 날, 모든 순간 (Every day, Every Moment)|폴킴\n",
      "허리춤|오반 (OVAN)\n",
      "흔들리는 꽃들 속에서 네 샴푸향이 느껴진거야|장범준\n",
      "회상|정경호\n",
      "12:45 (Stripped)|Etham\n",
      "VVS (Feat. JUSTHIS) (Prod. GroovyRoom)|미란이 (Mirani)\n",
      "넌 좋은 사람|SG 워너비\n",
      "미워요|임영웅\n",
      "너의 번호를 누르고 (Prod. 영화처럼)|#안녕\n",
      "나랑 같이 걸을래 (바른연애 길잡이 X 적재)|적재\n",
      "오래된 노래|스탠딩 에그\n",
      "Coin|아이유\n",
      "On The Ground|로제 (ROSÉ)\n",
      "사랑의 아픔 딛고|임영웅\n",
      "계단말고 엘리베이터|임영웅\n",
      "어떻게 지내 (Prod. By VAN.C)|오반 (OVAN)\n",
      "오늘도 빛나는 너에게 (To You My Light) (Feat.이라온)|마크툽 (MAKTUB)\n",
      "사실 나는 (Feat.전건호)|경서예지\n",
      "제자리 걸음|V.O.S\n",
      "Memories|Maroon 5\n",
      "고백|장범준\n",
      "네 노래|피아노맨\n",
      "내사람|SG 워너비\n",
      "LO$ER=LO♡ER|투모로우바이투게더\n",
      "나는 너 좋아|장범준\n",
      "술버릇 (운전만해 그후)|브레이브걸스\n",
      "목로주점|임영웅\n"
     ]
    }
   ],
   "metadata": {}
  },
  {
   "cell_type": "code",
   "execution_count": 47,
   "source": [
    "driver.close()"
   ],
   "outputs": [],
   "metadata": {}
  }
 ],
 "metadata": {
  "orig_nbformat": 4,
  "language_info": {
   "name": "python",
   "version": "3.8.10",
   "mimetype": "text/x-python",
   "codemirror_mode": {
    "name": "ipython",
    "version": 3
   },
   "pygments_lexer": "ipython3",
   "nbconvert_exporter": "python",
   "file_extension": ".py"
  },
  "kernelspec": {
   "name": "python3",
   "display_name": "Python 3.8.10 64-bit ('btfsop': conda)"
  },
  "interpreter": {
   "hash": "795bef2181d8c1d673d637ebabbfa46c3363c718d3652ae25a9a4fec543c87a1"
  }
 },
 "nbformat": 4,
 "nbformat_minor": 2
}